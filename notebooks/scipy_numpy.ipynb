{
 "cells": [
  {
   "cell_type": "markdown",
   "metadata": {},
   "source": [
    "# Numpy\n",
    "\n",
    "NumPy is an extension to the Python programming language, adding support for large, multi-dimensional (numerical) arrays and matrices, along with a large library of high-level mathematical functions to operate on these arrays.\n",
    "\n",
    "**Sources:** Kevin Markham"
   ]
  },
  {
   "cell_type": "code",
   "execution_count": 10,
   "metadata": {
    "collapsed": false
   },
   "outputs": [
    {
     "name": "stdout",
     "output_type": "stream",
     "text": [
      "3.71657322919\n",
      "[[ 0.00630595  0.20303476  0.76478993]\n",
      " [ 0.55513384  0.74358546  0.93777808]]\n",
      "[0 0 0 1 1 0 1 1 1 1]\n"
     ]
    }
   ],
   "source": [
    "import numpy as np\n",
    "\n",
    "# create ndarrays from lists\n",
    "# note: every element must be the same type (will be converted if possible)\n",
    "data1 = [6, 7.5, 8, 0, 1]           # list\n",
    "arr1 = np.array(data1)              # 1d array\n",
    "data2 = [range(1, 5), range(5, 9)]  # list of lists\n",
    "arr2 = np.array(data2)              # 2d array\n",
    "arr2.tolist()                       # convert array back to list\n",
    "\n",
    "# examining arrays\n",
    "arr1.dtype      # float64\n",
    "arr2.dtype      # int32\n",
    "arr2.ndim       # 2\n",
    "arr2.shape      # (2, 4) - axis 0 is rows, axis 1 is columns\n",
    "arr2.size       # 8 - total number of elements\n",
    "len(arr2)       # 2 - size of first dimension (aka axis)\n",
    "\n",
    "# create special arrays\n",
    "np.zeros(10)\n",
    "np.zeros((3, 6))\n",
    "np.ones(10)\n",
    "np.linspace(0, 1, 5)            # 0 to 1 (inclusive) with 5 points\n",
    "np.logspace(0, 3, 4)            # 10^0 to 10^3 (inclusive) with 4 points\n",
    "\n",
    "# arange is like range, except it returns an array (not a list)\n",
    "int_array = np.arange(5)\n",
    "float_array = int_array.astype(float)\n",
    "\n",
    "# slicing\n",
    "arr1[0]         # 0th element (slices like a list)\n",
    "arr2[0]         # row 0: returns 1d array ([1, 2, 3, 4])\n",
    "arr2[0, 3]      # row 0, column 3: returns 4\n",
    "arr2[0][3]      # alternative syntax\n",
    "arr2[:, 0]      # all rows, column 0: returns 1d array ([1, 5])\n",
    "arr2[:, 0:1]    # all rows, column 0: returns 2d array ([[1], [5]])\n",
    "\n",
    "# views and copies\n",
    "arr = np.arange(10)\n",
    "arr[5:8]                    # returns [5, 6, 7]\n",
    "arr[5:8] = 12               # all three values are overwritten (would give error on a list)\n",
    "arr_view = arr[5:8]         # creates a \"view\" on arr, not a copy\n",
    "arr_view[:] = 13            # modifies arr_view AND arr\n",
    "arr_copy = arr[5:8].copy()  # makes a copy instead\n",
    "arr_copy[:] = 14            # only modifies arr_copy\n",
    "\n",
    "# using boolean arrays\n",
    "names = np.array(['Bob', 'Joe', 'Will', 'Bob'])\n",
    "names == 'Bob'                          # returns a boolean array\n",
    "names[names != 'Bob']                   # logical selection\n",
    "(names == 'Bob') | (names == 'Will')    # keywords \"and/or\" don't work with boolean arrays\n",
    "names[names != 'Bob'] = 'Joe'           # assign based on a logical selection\n",
    "np.unique(names)                        # set function\n",
    "\n",
    "# vectorized operations\n",
    "nums = np.arange(5)\n",
    "nums * 10                           # multiply each element by 10\n",
    "nums = np.sqrt(nums)                # square root of each element\n",
    "np.ceil(nums)                       # also floor, rint (round to nearest int)\n",
    "np.isnan(nums)                      # checks for NaN\n",
    "nums + np.arange(5)                 # add element-wise\n",
    "np.maximum(nums, np.array([1, -2, 3, -4, 5]))  # compare element-wise\n",
    "\n",
    "# Compute Euclidean distance between 2 vectors\n",
    "vec1 = np.random.randn(10)\n",
    "vec2 = np.random.randn(10)\n",
    "dist = np.sqrt(np.sum((vec1 - vec2) ** 2))\n",
    "\n",
    "# math and stats\n",
    "rnd = np.random.randn(4, 2) # random normals in 4x2 array\n",
    "rnd.mean()\n",
    "rnd.std()\n",
    "rnd.argmin()                # index of minimum element\n",
    "rnd.sum()\n",
    "rnd.sum(axis=0)             # sum of columns\n",
    "rnd.sum(axis=1)             # sum of rows\n",
    "\n",
    "\n",
    "# conditional logic\n",
    "np.where(rnd > 0, 2, -2)    # args: condition, value if True, value if False\n",
    "np.where(rnd > 0, 2, rnd)   # any of the 3 arguments can be an array\n",
    "\n",
    "# methods for boolean arrays\n",
    "(rnd > 0).sum()             # counts number of positive values\n",
    "(rnd > 0).any()             # checks if any value is True\n",
    "(rnd > 0).all()             # checks if all values are True\n",
    "\n",
    "# reshape, transpose, flatten\n",
    "nums = np.arange(32).reshape(8, 4) # creates 8x4 array\n",
    "nums.T                       # transpose\n",
    "nums.flatten()               # flatten\n",
    "\n",
    "# random numbers\n",
    "np.random.seed(12234)       # Set the seed\n",
    "np.random.rand(2, 3)        # 2 x 3 matrix in [0, 1]\n",
    "np.random.randn(10)         # random normals (mean 0, sd 1)\n",
    "np.random.randint(0, 2, 10) # 10 randomly picked 0 or 1"
   ]
  },
  {
   "cell_type": "code",
   "execution_count": null,
   "metadata": {
    "collapsed": true
   },
   "outputs": [],
   "source": []
  }
 ],
 "metadata": {
  "kernelspec": {
   "display_name": "Python 2",
   "language": "python",
   "name": "python2"
  },
  "language_info": {
   "codemirror_mode": {
    "name": "ipython",
    "version": 2
   },
   "file_extension": ".py",
   "mimetype": "text/x-python",
   "name": "python",
   "nbconvert_exporter": "python",
   "pygments_lexer": "ipython2",
   "version": "2.7.10"
  }
 },
 "nbformat": 4,
 "nbformat_minor": 0
}
